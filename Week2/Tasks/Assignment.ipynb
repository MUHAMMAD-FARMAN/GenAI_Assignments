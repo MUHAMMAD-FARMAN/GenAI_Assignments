{
 "cells": [
  {
   "cell_type": "code",
   "execution_count": null,
   "metadata": {},
   "outputs": [],
   "source": [
    "# Part1\n",
    "import pandas as pd\n",
    "\n",
    "# Load the dataset\n",
    "file_path = './Dataset/twitter_training.csv'  # Update this with the actual path to the dataset file\n",
    "reviews_df = pd.read_csv(file_path)\n",
    "\n",
    "# Display the first few rows\n",
    "print(reviews_df.head())\n"
   ]
  }
 ],
 "metadata": {
  "language_info": {
   "name": "python"
  }
 },
 "nbformat": 4,
 "nbformat_minor": 2
}
